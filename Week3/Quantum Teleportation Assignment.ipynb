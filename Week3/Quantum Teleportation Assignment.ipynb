{
 "cells": [
  {
   "cell_type": "markdown",
   "id": "5a30f085-f094-43b5-8a0b-801030e61e20",
   "metadata": {
    "tags": []
   },
   "source": [
    "# Quantum Teleportation Assignment"
   ]
  },
  {
   "cell_type": "markdown",
   "id": "522614ef-e654-4cd0-a397-e7071ae172be",
   "metadata": {
    "tags": []
   },
   "source": [
    "##### In this assignment, you will explore the concept of Quantum Teleportation using Qiskit. Quantum Teleportation is a protocol that allows the transfer of a quantum state from one qubit to another, utilizing entanglement and classical communication."
   ]
  },
  {
   "cell_type": "markdown",
   "id": "77648d6c-98a4-4abc-81a8-2b5dd18b79d2",
   "metadata": {},
   "source": [
    "## Part 1: Teleportation of Pure States"
   ]
  },
  {
   "cell_type": "markdown",
   "id": "063424fe-6719-4240-a659-2b855c7cb2ac",
   "metadata": {},
   "source": [
    "### Task 1.1: Understanding the Protocol"
   ]
  },
  {
   "cell_type": "markdown",
   "id": "01916daf-0592-4203-afbc-45f18dc81806",
   "metadata": {},
   "source": [
    "##### In the Quantum Teleportation protocol, Alice and Bob share a maximally entangled two-qubit state (Bell state). Alice can teleport an unknown quantum state to Bob by performing certain quantum operations and classical communication.\n",
    "\n",
    "##### Describe the Quantum Teleportation protocol in your own words.\n",
    "##### Write the steps involved in the protocol."
   ]
  },
  {
   "cell_type": "markdown",
   "id": "91a5c322-2adc-4aaf-b306-9e587de95697",
   "metadata": {},
   "source": [
    "## Task 1.2: Implementing the Protocol in Qiskit"
   ]
  },
  {
   "cell_type": "markdown",
   "id": "9d793769-3085-4901-a99d-877edd228bbe",
   "metadata": {},
   "source": [
    "##### Implement the Quantum Teleportation protocol in Qiskit. Specifically, code a function that creates a circuit to teleport an arbitrary quantum state"
   ]
  },
  {
   "cell_type": "code",
   "execution_count": 8,
   "id": "b8fb5705-6b8f-4fa4-aaf5-1be4cbb478dd",
   "metadata": {
    "tags": []
   },
   "outputs": [
    {
     "name": "stdout",
     "output_type": "stream",
     "text": [
      "      ┌────────────────────┐          ┌───┐┌─┐              \n",
      "q2_0: ┤ U(1.1926,2.7207,0) ├───────■──┤ H ├┤M├──────────────\n",
      "      └───────┬───┬────────┘     ┌─┴─┐└┬─┬┘└╥┘              \n",
      "q2_1: ────────┤ H ├───────────■──┤ X ├─┤M├──╫───────────────\n",
      "              └───┘         ┌─┴─┐└───┘ └╥┘  ║  ┌───┐  ┌───┐ \n",
      "q2_2: ──────────────────────┤ X ├───────╫───╫──┤ X ├──┤ Z ├─\n",
      "                            └───┘       ║   ║  └─╥─┘  └─╥─┘ \n",
      "                                        ║   ║ ┌──╨──┐┌──╨──┐\n",
      "c2: 2/══════════════════════════════════╩═══╩═╡ 0x1 ╞╡ 0x2 ╞\n",
      "                                        1   0 └─────┘└─────┘\n"
     ]
    }
   ],
   "source": [
    "from qiskit import *\n",
    "import numpy as np\n",
    "\n",
    "def quantum_teleportation():\n",
    "    q = QuantumRegister(3)\n",
    "    c = ClassicalRegister(2)\n",
    "    circuit = QuantumCircuit(q, c)\n",
    "\n",
    "    # Create a random state on q[0]\n",
    "    theta = np.random.rand() * np.pi  \n",
    "    phi = np.random.rand() * 2 * np.pi\n",
    "\n",
    "    # Apply the U gate (formerly u3) to q[0]\n",
    "    circuit.u(theta, phi, 0, q[0])\n",
    "\n",
    "    # Create a Bell pair between q[1] and q[2]\n",
    "    circuit.h(q[1])\n",
    "    circuit.cx(q[1], q[2])\n",
    "\n",
    "    # Entangle q[0] with q[1]\n",
    "    circuit.cx(q[0], q[1])\n",
    "    circuit.h(q[0])\n",
    "\n",
    "    # Measure q[0] and q[1]\n",
    "    circuit.measure(q[0], c[0])\n",
    "    circuit.measure(q[1], c[1])\n",
    "\n",
    "    # Apply the correction gates conditioned on the classical bits\n",
    "    circuit.x(q[2]).c_if(c, 1) \n",
    "    circuit.z(q[2]).c_if(c, 2)\n",
    "\n",
    "    return circuit\n",
    "\n",
    "# Generate the quantum teleportation circuit\n",
    "circuit = quantum_teleportation()\n",
    "print(circuit)"
   ]
  },
  {
   "cell_type": "markdown",
   "id": "9abfa096-cf96-41ed-94bc-b208d6143047",
   "metadata": {},
   "source": [
    "## Part 2: Teleportation of Mixed States"
   ]
  },
  {
   "cell_type": "markdown",
   "id": "523e17f7-0b3c-425d-b6a9-44a2df0ccac5",
   "metadata": {},
   "source": [
    "### Task 2.1: Teleporting a Mixed State"
   ]
  },
  {
   "cell_type": "markdown",
   "id": "f81a3bee-ca69-4aca-8734-49e05c5a0fff",
   "metadata": {},
   "source": [
    "##### The standard Quantum Teleportation protocol assumes that the state to be teleported is a pure state. However, you cannot directly use this protocol to teleport mixed states.\n",
    "\n",
    "##### Propose a protocol that uses Quantum Teleportation as a component to teleport a mixed state.\n",
    "##### Optional: Implement this protocol in Qiskit."
   ]
  },
  {
   "cell_type": "markdown",
   "id": "5cabbaf7-436b-41d3-89e0-698916d9c541",
   "metadata": {},
   "source": [
    "## Part 3: Teleporting an Entangled Qubit"
   ]
  },
  {
   "cell_type": "markdown",
   "id": "fc3141d9-95d4-4c94-9cc3-f5f2e9c2b28d",
   "metadata": {
    "tags": []
   },
   "source": [
    "### Task 3.1: Teleporting One Qubit of a Maximally Entangled Pair"
   ]
  },
  {
   "cell_type": "markdown",
   "id": "cd55dc1f-4de3-49b9-83c0-eee71bd5b9c7",
   "metadata": {},
   "source": [
    "##### Consider a scenario where Alice shares a maximally entangled pair of qubits with Bob. She then wants to teleport her share of the entangled qubit to Charlie.\n",
    "\n",
    "##### Describe what will happen to the state of the system if Alice teleports her qubit to Charlie using the standard Quantum Teleportation protocol.\n",
    "##### Explain the resulting entanglement relationships between Bob, Charlie, and the teleported qubit.\n",
    "##### Optional: Implement the teleportation of one qubit of a maximally entangled pair in Qiskit and verify the resulting state."
   ]
  }
 ],
 "metadata": {
  "kernelspec": {
   "display_name": "Python 3 (ipykernel)",
   "language": "python",
   "name": "python3"
  },
  "language_info": {
   "codemirror_mode": {
    "name": "ipython",
    "version": 3
   },
   "file_extension": ".py",
   "mimetype": "text/x-python",
   "name": "python",
   "nbconvert_exporter": "python",
   "pygments_lexer": "ipython3",
   "version": "3.11.5"
  }
 },
 "nbformat": 4,
 "nbformat_minor": 5
}
