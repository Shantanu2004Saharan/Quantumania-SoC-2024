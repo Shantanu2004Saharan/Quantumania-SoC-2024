{
 "cells": [
  {
   "cell_type": "markdown",
   "id": "cb6ca198-1ebe-4bdc-b102-b964a9dced08",
   "metadata": {},
   "source": [
    "# Super Dense Coding Assignment"
   ]
  },
  {
   "cell_type": "markdown",
   "id": "937402c4-d733-4623-91ee-98a032397033",
   "metadata": {},
   "source": [
    "##### In this assignment, you will explore the concept of Super Dense Coding using Qiskit. Super Dense Coding is a quantum communication protocol that allows the transmission of classical information using quantum entanglement."
   ]
  },
  {
   "cell_type": "markdown",
   "id": "0692e0cc-de54-479f-b2b2-3c98ec80d345",
   "metadata": {},
   "source": [
    "# Part 1: Transmitting 2 Bits Using Super Dense Coding\n",
    "\n",
    "## Task 1.1: Understanding the Protocol\n",
    "\n",
    "##### In the Super Dense Coding protocol, Alice and Bob share a maximally entangled two-qubit state (Bell state). Alice can send 2 bits of classical information to Bob by applying a specific quantum gate based on her message and sending her qubit to Bob. Bob can then decode the message by applying a set of operations on the received qubit.\n",
    "\n",
    "##### 1.Describe the Super Dense Coding protocol in your own words.\n",
    "##### 2.Write the steps involved in the protocol.\n",
    "# Task 1.2: Implementing the Protocol in Qiskit\n",
    "##### Implement the Super Dense Coding protocol in Qiskit. Specifically, code a function that takes a 2-bit message as input and returns the corresponding quantum circuit."
   ]
  },
  {
   "cell_type": "code",
   "execution_count": 2,
   "id": "40daef67-507f-4d35-91c1-e1b50e8cba48",
   "metadata": {
    "tags": []
   },
   "outputs": [
    {
     "name": "stdout",
     "output_type": "stream",
     "text": [
      "Defaulting to user installation because normal site-packages is not writeable\n",
      "Collecting qiskit-aer\n",
      "  Obtaining dependency information for qiskit-aer from https://files.pythonhosted.org/packages/f8/bc/4caef52bf661984f25fac76ea7fcc84ecff3667931aca8c0b228fc0411f9/qiskit_aer-0.14.2-cp311-cp311-win_amd64.whl.metadata\n",
      "  Downloading qiskit_aer-0.14.2-cp311-cp311-win_amd64.whl.metadata (8.3 kB)\n",
      "Requirement already satisfied: qiskit>=0.45.2 in c:\\users\\hello\\appdata\\roaming\\python\\python311\\site-packages (from qiskit-aer) (1.1.1)\n",
      "Requirement already satisfied: numpy>=1.16.3 in c:\\programdata\\anaconda3\\lib\\site-packages (from qiskit-aer) (1.24.3)\n",
      "Requirement already satisfied: scipy>=1.0 in c:\\programdata\\anaconda3\\lib\\site-packages (from qiskit-aer) (1.11.1)\n",
      "Requirement already satisfied: psutil>=5 in c:\\programdata\\anaconda3\\lib\\site-packages (from qiskit-aer) (5.9.0)\n",
      "Requirement already satisfied: rustworkx>=0.14.0 in c:\\users\\hello\\appdata\\roaming\\python\\python311\\site-packages (from qiskit>=0.45.2->qiskit-aer) (0.15.1)\n",
      "Requirement already satisfied: sympy>=1.3 in c:\\programdata\\anaconda3\\lib\\site-packages (from qiskit>=0.45.2->qiskit-aer) (1.11.1)\n",
      "Requirement already satisfied: dill>=0.3 in c:\\programdata\\anaconda3\\lib\\site-packages (from qiskit>=0.45.2->qiskit-aer) (0.3.6)\n",
      "Requirement already satisfied: python-dateutil>=2.8.0 in c:\\programdata\\anaconda3\\lib\\site-packages (from qiskit>=0.45.2->qiskit-aer) (2.8.2)\n",
      "Requirement already satisfied: stevedore>=3.0.0 in c:\\users\\hello\\appdata\\roaming\\python\\python311\\site-packages (from qiskit>=0.45.2->qiskit-aer) (5.2.0)\n",
      "Requirement already satisfied: typing-extensions in c:\\programdata\\anaconda3\\lib\\site-packages (from qiskit>=0.45.2->qiskit-aer) (4.12.2)\n",
      "Requirement already satisfied: symengine>=0.11 in c:\\users\\hello\\appdata\\roaming\\python\\python311\\site-packages (from qiskit>=0.45.2->qiskit-aer) (0.11.0)\n",
      "Requirement already satisfied: six>=1.5 in c:\\programdata\\anaconda3\\lib\\site-packages (from python-dateutil>=2.8.0->qiskit>=0.45.2->qiskit-aer) (1.16.0)\n",
      "Requirement already satisfied: pbr!=2.1.0,>=2.0.0 in c:\\users\\hello\\appdata\\roaming\\python\\python311\\site-packages (from stevedore>=3.0.0->qiskit>=0.45.2->qiskit-aer) (6.0.0)\n",
      "Requirement already satisfied: mpmath>=0.19 in c:\\programdata\\anaconda3\\lib\\site-packages (from sympy>=1.3->qiskit>=0.45.2->qiskit-aer) (1.3.0)\n",
      "Downloading qiskit_aer-0.14.2-cp311-cp311-win_amd64.whl (9.5 MB)\n",
      "   ---------------------------------------- 0.0/9.5 MB ? eta -:--:--\n",
      "   -- ------------------------------------- 0.5/9.5 MB 15.4 MB/s eta 0:00:01\n",
      "   --- ------------------------------------ 0.8/9.5 MB 10.6 MB/s eta 0:00:01\n",
      "   ---- ----------------------------------- 1.2/9.5 MB 9.4 MB/s eta 0:00:01\n",
      "   ------- -------------------------------- 1.7/9.5 MB 10.0 MB/s eta 0:00:01\n",
      "   -------- ------------------------------- 2.1/9.5 MB 9.7 MB/s eta 0:00:01\n",
      "   ---------- ----------------------------- 2.6/9.5 MB 9.7 MB/s eta 0:00:01\n",
      "   ------------ --------------------------- 3.1/9.5 MB 9.7 MB/s eta 0:00:01\n",
      "   -------------- ------------------------- 3.5/9.5 MB 9.7 MB/s eta 0:00:01\n",
      "   ---------------- ----------------------- 4.0/9.5 MB 9.7 MB/s eta 0:00:01\n",
      "   ------------------ --------------------- 4.4/9.5 MB 9.7 MB/s eta 0:00:01\n",
      "   -------------------- ------------------- 5.0/9.5 MB 9.9 MB/s eta 0:00:01\n",
      "   ---------------------- ----------------- 5.3/9.5 MB 9.7 MB/s eta 0:00:01\n",
      "   ------------------------ --------------- 5.9/9.5 MB 9.9 MB/s eta 0:00:01\n",
      "   -------------------------- ------------- 6.3/9.5 MB 9.9 MB/s eta 0:00:01\n",
      "   ---------------------------- ----------- 6.9/9.5 MB 9.9 MB/s eta 0:00:01\n",
      "   ------------------------------ --------- 7.3/9.5 MB 10.0 MB/s eta 0:00:01\n",
      "   -------------------------------- ------- 7.8/9.5 MB 9.9 MB/s eta 0:00:01\n",
      "   ---------------------------------- ----- 8.2/9.5 MB 9.9 MB/s eta 0:00:01\n",
      "   ------------------------------------ --- 8.7/9.5 MB 10.0 MB/s eta 0:00:01\n",
      "   ---------------------------------------  9.3/9.5 MB 10.1 MB/s eta 0:00:01\n",
      "   ---------------------------------------  9.5/9.5 MB 10.0 MB/s eta 0:00:01\n",
      "   ---------------------------------------  9.5/9.5 MB 10.0 MB/s eta 0:00:01\n",
      "   ---------------------------------------- 9.5/9.5 MB 8.9 MB/s eta 0:00:00\n",
      "Installing collected packages: qiskit-aer\n",
      "Successfully installed qiskit-aer-0.14.2\n"
     ]
    }
   ],
   "source": [
    "!pip install qiskit-aer\n",
    "from qiskit_aer import AerSimulator"
   ]
  },
  {
   "cell_type": "code",
   "execution_count": 5,
   "id": "96d2de0f-4688-4746-9173-3c7f9ace0ddc",
   "metadata": {
    "tags": []
   },
   "outputs": [
    {
     "name": "stdout",
     "output_type": "stream",
     "text": [
      "     ┌───┐     ┌───┐     ┌───┐┌─┐\n",
      "q_0: ┤ H ├──■──┤ Z ├──■──┤ H ├┤M├\n",
      "     └───┘┌─┴─┐└───┘┌─┴─┐└┬─┬┘└╥┘\n",
      "q_1: ─────┤ X ├─────┤ X ├─┤M├──╫─\n",
      "          └───┘     └───┘ └╥┘  ║ \n",
      "c: 2/══════════════════════╩═══╩═\n",
      "                           1   0 \n"
     ]
    }
   ],
   "source": [
    "from qiskit import QuantumCircuit, QuantumRegister, ClassicalRegister, transpile\n",
    "from qiskit_aer import AerSimulator\n",
    "from qiskit.visualization import plot_histogram\n",
    "\n",
    "def prepare_bell_state():\n",
    "    q = QuantumRegister(2, 'q')\n",
    "    c = ClassicalRegister(2, 'c')\n",
    "    qc = QuantumCircuit(q, c)\n",
    "    qc.h(q[0])  # Apply Hadamard gate to the first qubit\n",
    "    qc.cx(q[0], q[1])  # Apply CNOT gate\n",
    "    return qc\n",
    "\n",
    "def encode_message(qc, message):\n",
    "    if message == \"00\":\n",
    "        pass  # Do nothing, the message is already |00⟩\n",
    "    elif message == \"01\":\n",
    "        qc.x(0)  # Apply X gate to flip the first qubit\n",
    "    elif message == \"10\":\n",
    "        qc.z(0)  # Apply Z gate to change the phase of the first qubit\n",
    "    elif message == \"11\":\n",
    "        qc.x(0)  # Apply X gate to flip the first qubit\n",
    "        qc.z(0)  # Apply Z gate to change the phase of the first qubit\n",
    "    \n",
    "    return qc\n",
    "\n",
    "def decode_message(qc):\n",
    "    qc.cx(0, 1)  # Apply CNOT gate\n",
    "    qc.h(0)  # Apply Hadamard gate to the first qubit\n",
    "    \n",
    "    qc.measure([0, 1], [0, 1])  # Measure both qubits\n",
    "    \n",
    "    return qc\n",
    "\n",
    "# Example usage\n",
    "message = \"10\"  # 2-bit message to send\n",
    "qc = prepare_bell_state()\n",
    "encoded_qc = encode_message(qc, message)\n",
    "decoded_qc = decode_message(encoded_qc)\n",
    "print(decoded_qc)\n",
    "\n",
    "# Simulate the circuit\n",
    "simulator = AerSimulator()\n",
    "compiled_circuit = transpile(decoded_qc, simulator)\n",
    "sim_result = simulator.run(compiled_circuit).result()\n",
    "counts = sim_result.get_counts()"
   ]
  },
  {
   "cell_type": "markdown",
   "id": "8a027775-85e8-4025-8b22-e4cc2f832ba2",
   "metadata": {},
   "source": [
    "## Part 2: Transmitting 3 Bits Using a 3-Qubit Entangled State\n",
    "\n",
    "### Task 2.1: Proposing a 3-Qubit State\n",
    "\n",
    "##### Now that you have successfully transmitted 2 bits of information, suppose that Alice and Bob share a 3-qubit entangled state with 2 qubits with Alice and 1 qubit with Bob. Their goal is to transmit 3 bits, using those 3 qubits.\n",
    "\n",
    "###### Describe the 3-qubit entangled state that is shared between Alice and Bob.\n",
    "\n",
    "### Task 2.2: Designing the Protocol\n",
    "##### Design a protocol that allows Alice to transmit a 3-bit message by sending her 2 qubits to Bob. Implement this protocol in Qiskit."
   ]
  },
  {
   "cell_type": "code",
   "execution_count": 6,
   "id": "89168ea6-a17f-4313-b384-e849151d3e4d",
   "metadata": {
    "tags": []
   },
   "outputs": [
    {
     "name": "stdout",
     "output_type": "stream",
     "text": [
      "     ┌───┐          ┌───┐          ┌───┐   ┌─┐\n",
      "q_0: ┤ H ├──■────■──┤ Z ├──■────■──┤ H ├───┤M├\n",
      "     └───┘┌─┴─┐  │  ├───┤┌─┴─┐  │  └┬─┬┘   └╥┘\n",
      "q_1: ─────┤ X ├──┼──┤ X ├┤ X ├──┼───┤M├─────╫─\n",
      "          └───┘┌─┴─┐└───┘└───┘┌─┴─┐ └╥┘ ┌─┐ ║ \n",
      "q_2: ──────────┤ X ├──────────┤ X ├──╫──┤M├─╫─\n",
      "               └───┘          └───┘  ║  └╥┘ ║ \n",
      "c: 3/════════════════════════════════╩═══╩══╩═\n",
      "                                     1   2  0 \n"
     ]
    }
   ],
   "source": [
    "from qiskit import QuantumCircuit, QuantumRegister, ClassicalRegister, transpile\n",
    "from qiskit_aer import AerSimulator\n",
    "from qiskit.visualization import plot_histogram\n",
    "\n",
    "def create_ghz_state():\n",
    "    # Create quantum and classical registers with 3 qubits each\n",
    "    q = QuantumRegister(3, 'q')\n",
    "    c = ClassicalRegister(3, 'c')\n",
    "    qc = QuantumCircuit(q, c)\n",
    "    \n",
    "    # Prepare a 3-qubit GHZ state\n",
    "    qc.h(q[0])\n",
    "    qc.cx(q[0], q[1])\n",
    "    qc.cx(q[0], q[2])\n",
    "    \n",
    "    return qc\n",
    "\n",
    "def encode_classical_message(qc, message):\n",
    "    # Apply encoding based on the classical message\n",
    "    if message == \"000\":\n",
    "        pass  # No operation for \"000\"\n",
    "    elif message == \"001\":\n",
    "        qc.x(0)\n",
    "    elif message == \"010\":\n",
    "        qc.z(0)\n",
    "    elif message == \"011\":\n",
    "        qc.x(0)\n",
    "        qc.z(0)\n",
    "    elif message == \"100\":\n",
    "        qc.x(1)\n",
    "    elif message == \"101\":\n",
    "        qc.x(1)\n",
    "        qc.x(0)\n",
    "    elif message == \"110\":\n",
    "        qc.x(1)\n",
    "        qc.z(0)\n",
    "    elif message == \"111\":\n",
    "        qc.x(1)\n",
    "        qc.x(0)\n",
    "        qc.z(0)\n",
    "    \n",
    "    return qc\n",
    "\n",
    "def decode_quantum_state(qc):\n",
    "    # Apply the decoding operations\n",
    "    qc.cx(0, 1)\n",
    "    qc.cx(0, 2)\n",
    "    qc.h(0)\n",
    "    \n",
    "    # Measure all qubits\n",
    "    qc.measure([0, 1, 2], [0, 1, 2])\n",
    "    \n",
    "    return qc\n",
    "\n",
    "# Example usage\n",
    "message = \"110\"  # 3-bit message to encode and send\n",
    "qc = create_ghz_state()\n",
    "encoded_qc = encode_classical_message(qc, message)\n",
    "decoded_qc = decode_quantum_state(encoded_qc)\n",
    "print(decoded_qc)\n",
    "\n",
    "# Simulate the circuit\n",
    "simulator = AerSimulator()\n",
    "compiled_circuit = transpile(decoded_qc, simulator)\n",
    "sim_result = simulator.run(compiled_circuit).result()\n",
    "counts = sim_result.get_counts()"
   ]
  },
  {
   "cell_type": "markdown",
   "id": "7da40da6-2c86-467f-a800-465dc7f97bc9",
   "metadata": {},
   "source": [
    "## Part 3: Analyzing Limitations\n",
    "### Task 3.1: Limitations of Transmitting Information\n",
    "##### Analyze the limitations of the protocol where Bob tries to send more than 2 bits of information using only 1 qubit. Explain why it is not possible.\n",
    "\n",
    "## Task 3.2: Improving the Protocol\n",
    "##### Notice that we are sending 2 qubits to transmit 3 bits of information in the above protocol. We can do better by using 2 qubits to send 4 bits of information by repeating the first protocol twice.\n",
    "\n",
    "##### Can you think of a way to achieve this, in a similar line to the previous methods, but with one common shared state (and not two separate Bell states)?"
   ]
  }
 ],
 "metadata": {
  "kernelspec": {
   "display_name": "Python 3 (ipykernel)",
   "language": "python",
   "name": "python3"
  },
  "language_info": {
   "codemirror_mode": {
    "name": "ipython",
    "version": 3
   },
   "file_extension": ".py",
   "mimetype": "text/x-python",
   "name": "python",
   "nbconvert_exporter": "python",
   "pygments_lexer": "ipython3",
   "version": "3.11.5"
  }
 },
 "nbformat": 4,
 "nbformat_minor": 5
}
